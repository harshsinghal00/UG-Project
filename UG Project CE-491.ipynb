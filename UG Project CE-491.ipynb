{
 "cells": [
  {
   "cell_type": "markdown",
   "metadata": {},
   "source": [
    "# UG Project - Traffic Accident Analysis - Machine Learning"
   ]
  },
  {
   "cell_type": "markdown",
   "metadata": {},
   "source": [
    "In continuation to [UG-392](https://github.com/harshsinghal00/UG-Project/blob/main/UG%20Project%20CE-392.ipynb)\n"
   ]
  },
  {
   "cell_type": "markdown",
   "metadata": {},
   "source": [
    "## Importing needed Libraries"
   ]
  },
  {
   "cell_type": "code",
   "execution_count": 1,
   "metadata": {},
   "outputs": [
    {
     "name": "stderr",
     "output_type": "stream",
     "text": [
      "\n",
      "Bad key \"text.kerning_factor\" on line 4 in\n",
      "C:\\Ac\\lib\\site-packages\\matplotlib\\mpl-data\\stylelib\\_classic_test_patch.mplstyle.\n",
      "You probably need to get an updated matplotlibrc file from\n",
      "https://github.com/matplotlib/matplotlib/blob/v3.1.3/matplotlibrc.template\n",
      "or from the matplotlib source distribution\n"
     ]
    }
   ],
   "source": [
    "#Import modules\n",
    "import numpy as np\n",
    "import pandas as pd\n",
    "import time\n",
    "import timeit\n",
    "\n",
    "#visualisation\n",
    "import matplotlib.pyplot as plt\n",
    "import seaborn as sns\n",
    "%matplotlib inline\n",
    "\n",
    "import datetime\n",
    "import math\n",
    "\n",
    "#warning ignorer\n",
    "import warnings\n",
    "warnings.filterwarnings(\"ignore\")\n",
    "\n",
    "#sklearn\n",
    "import sklearn\n",
    "from sklearn import preprocessing\n",
    "from sklearn.ensemble import RandomForestClassifier\n",
    "from sklearn.metrics import accuracy_score \n",
    "from sklearn.metrics import confusion_matrix\n",
    "from sklearn.model_selection import train_test_split\n",
    "from sklearn.preprocessing import LabelEncoder\n",
    "from sklearn.utils import resample"
   ]
  },
  {
   "cell_type": "markdown",
   "metadata": {},
   "source": [
    "## Importing needed Datasets"
   ]
  },
  {
   "cell_type": "markdown",
   "metadata": {},
   "source": [
    "Preprocessing and Exploratory Data Analysis can be found [here](https://github.com/harshsinghal00/UG-Project/blob/main/UG%20Project%20CE-392.ipynb)."
   ]
  },
  {
   "cell_type": "code",
   "execution_count": 12,
   "metadata": {},
   "outputs": [],
   "source": [
    "df = pd.read_csv('2016_combined_filled.csv', parse_dates=['Date'])"
   ]
  },
  {
   "cell_type": "code",
   "execution_count": 7,
   "metadata": {},
   "outputs": [],
   "source": [
    "pd.set_option('display.max_columns', None)"
   ]
  },
  {
   "cell_type": "code",
   "execution_count": 196,
   "metadata": {},
   "outputs": [
    {
     "data": {
      "text/html": [
       "<div>\n",
       "<style scoped>\n",
       "    .dataframe tbody tr th:only-of-type {\n",
       "        vertical-align: middle;\n",
       "    }\n",
       "\n",
       "    .dataframe tbody tr th {\n",
       "        vertical-align: top;\n",
       "    }\n",
       "\n",
       "    .dataframe thead th {\n",
       "        text-align: right;\n",
       "    }\n",
       "</style>\n",
       "<table border=\"1\" class=\"dataframe\">\n",
       "  <thead>\n",
       "    <tr style=\"text-align: right;\">\n",
       "      <th></th>\n",
       "      <th>Unnamed: 0</th>\n",
       "      <th>Accident_Index</th>\n",
       "      <th>Longitude</th>\n",
       "      <th>Latitude</th>\n",
       "      <th>Police_Force</th>\n",
       "      <th>Accident_Severity</th>\n",
       "      <th>Number_of_Vehicles</th>\n",
       "      <th>Number_of_Casualties</th>\n",
       "      <th>Date</th>\n",
       "      <th>Day_of_Week</th>\n",
       "      <th>Time</th>\n",
       "      <th>Local_Authority_(District)</th>\n",
       "      <th>Local_Authority_(Highway)</th>\n",
       "      <th>1st_Road_Class</th>\n",
       "      <th>1st_Road_Number</th>\n",
       "      <th>Road_Type</th>\n",
       "      <th>Speed_limit</th>\n",
       "      <th>Junction_Detail</th>\n",
       "      <th>Pedestrian_Crossing-Human_Control</th>\n",
       "      <th>Pedestrian_Crossing-Physical_Facilities</th>\n",
       "      <th>Light_Conditions</th>\n",
       "      <th>Weather_Conditions</th>\n",
       "      <th>Road_Surface_Conditions</th>\n",
       "      <th>Special_Conditions_at_Site</th>\n",
       "      <th>Carriageway_Hazards</th>\n",
       "      <th>Urban_or_Rural_Area</th>\n",
       "      <th>Did_Police_Officer_Attend_Scene_of_Accident</th>\n",
       "      <th>Vehicle_Reference</th>\n",
       "      <th>Vehicle_Type</th>\n",
       "      <th>Towing_and_Articulation</th>\n",
       "      <th>Vehicle_Manoeuvre</th>\n",
       "      <th>Vehicle_Location-Restricted_Lane</th>\n",
       "      <th>Junction_Location</th>\n",
       "      <th>Skidding_and_Overturning</th>\n",
       "      <th>Hit_Object_in_Carriageway</th>\n",
       "      <th>Vehicle_Leaving_Carriageway</th>\n",
       "      <th>Hit_Object_off_Carriageway</th>\n",
       "      <th>1st_Point_of_Impact</th>\n",
       "      <th>Was_Vehicle_Left_Hand_Drive?</th>\n",
       "      <th>Journey_Purpose_of_Driver</th>\n",
       "      <th>Sex_of_Driver</th>\n",
       "      <th>Age_of_Driver</th>\n",
       "      <th>Age_of_Vehicle</th>\n",
       "      <th>Driver_Home_Area_Type</th>\n",
       "      <th>Age_Band_of_Driver</th>\n",
       "      <th>Hour</th>\n",
       "      <th>Month</th>\n",
       "      <th>Daytime</th>\n",
       "      <th>Seriousness</th>\n",
       "    </tr>\n",
       "  </thead>\n",
       "  <tbody>\n",
       "    <tr>\n",
       "      <th>0</th>\n",
       "      <td>0</td>\n",
       "      <td>2016010000005</td>\n",
       "      <td>-0.279323</td>\n",
       "      <td>51.584754</td>\n",
       "      <td>1</td>\n",
       "      <td>3</td>\n",
       "      <td>2</td>\n",
       "      <td>1</td>\n",
       "      <td>2016-11-01</td>\n",
       "      <td>3</td>\n",
       "      <td>02:30</td>\n",
       "      <td>28</td>\n",
       "      <td>E09000005</td>\n",
       "      <td>3</td>\n",
       "      <td>4006</td>\n",
       "      <td>6.0</td>\n",
       "      <td>30.0</td>\n",
       "      <td>0.0</td>\n",
       "      <td>0.0</td>\n",
       "      <td>0.0</td>\n",
       "      <td>5.0</td>\n",
       "      <td>1.0</td>\n",
       "      <td>1.0</td>\n",
       "      <td>0.0</td>\n",
       "      <td>0.0</td>\n",
       "      <td>1</td>\n",
       "      <td>1</td>\n",
       "      <td>1</td>\n",
       "      <td>Car</td>\n",
       "      <td>0.0</td>\n",
       "      <td>6.0</td>\n",
       "      <td>0.0</td>\n",
       "      <td>0.0</td>\n",
       "      <td>0.0</td>\n",
       "      <td>0.0</td>\n",
       "      <td>0.0</td>\n",
       "      <td>0.0</td>\n",
       "      <td>3.0</td>\n",
       "      <td>1.0</td>\n",
       "      <td>1.0</td>\n",
       "      <td>1.0</td>\n",
       "      <td>51.0</td>\n",
       "      <td>3</td>\n",
       "      <td>1.0</td>\n",
       "      <td>4</td>\n",
       "      <td>2</td>\n",
       "      <td>11</td>\n",
       "      <td>Night Hours (22,6)</td>\n",
       "      <td>Not Serious</td>\n",
       "    </tr>\n",
       "    <tr>\n",
       "      <th>1</th>\n",
       "      <td>1</td>\n",
       "      <td>2016010000005</td>\n",
       "      <td>-0.279323</td>\n",
       "      <td>51.584754</td>\n",
       "      <td>1</td>\n",
       "      <td>3</td>\n",
       "      <td>2</td>\n",
       "      <td>1</td>\n",
       "      <td>2016-11-01</td>\n",
       "      <td>3</td>\n",
       "      <td>02:30</td>\n",
       "      <td>28</td>\n",
       "      <td>E09000005</td>\n",
       "      <td>3</td>\n",
       "      <td>4006</td>\n",
       "      <td>6.0</td>\n",
       "      <td>30.0</td>\n",
       "      <td>0.0</td>\n",
       "      <td>0.0</td>\n",
       "      <td>0.0</td>\n",
       "      <td>5.0</td>\n",
       "      <td>1.0</td>\n",
       "      <td>1.0</td>\n",
       "      <td>0.0</td>\n",
       "      <td>0.0</td>\n",
       "      <td>1</td>\n",
       "      <td>1</td>\n",
       "      <td>2</td>\n",
       "      <td>Motorcycle</td>\n",
       "      <td>0.0</td>\n",
       "      <td>18.0</td>\n",
       "      <td>0.0</td>\n",
       "      <td>0.0</td>\n",
       "      <td>0.0</td>\n",
       "      <td>0.0</td>\n",
       "      <td>0.0</td>\n",
       "      <td>0.0</td>\n",
       "      <td>1.0</td>\n",
       "      <td>1.0</td>\n",
       "      <td>6.0</td>\n",
       "      <td>1.0</td>\n",
       "      <td>23.0</td>\n",
       "      <td>2</td>\n",
       "      <td>1.0</td>\n",
       "      <td>2</td>\n",
       "      <td>2</td>\n",
       "      <td>11</td>\n",
       "      <td>Night Hours (22,6)</td>\n",
       "      <td>Not Serious</td>\n",
       "    </tr>\n",
       "    <tr>\n",
       "      <th>2</th>\n",
       "      <td>2</td>\n",
       "      <td>2016010000006</td>\n",
       "      <td>0.184928</td>\n",
       "      <td>51.449595</td>\n",
       "      <td>1</td>\n",
       "      <td>3</td>\n",
       "      <td>1</td>\n",
       "      <td>1</td>\n",
       "      <td>2016-11-01</td>\n",
       "      <td>3</td>\n",
       "      <td>00:37</td>\n",
       "      <td>18</td>\n",
       "      <td>E09000004</td>\n",
       "      <td>3</td>\n",
       "      <td>207</td>\n",
       "      <td>6.0</td>\n",
       "      <td>30.0</td>\n",
       "      <td>9.0</td>\n",
       "      <td>0.0</td>\n",
       "      <td>0.0</td>\n",
       "      <td>4.0</td>\n",
       "      <td>1.0</td>\n",
       "      <td>1.0</td>\n",
       "      <td>0.0</td>\n",
       "      <td>0.0</td>\n",
       "      <td>1</td>\n",
       "      <td>1</td>\n",
       "      <td>1</td>\n",
       "      <td>Car</td>\n",
       "      <td>0.0</td>\n",
       "      <td>18.0</td>\n",
       "      <td>0.0</td>\n",
       "      <td>2.0</td>\n",
       "      <td>2.0</td>\n",
       "      <td>10.0</td>\n",
       "      <td>1.0</td>\n",
       "      <td>0.0</td>\n",
       "      <td>4.0</td>\n",
       "      <td>1.0</td>\n",
       "      <td>6.0</td>\n",
       "      <td>2.0</td>\n",
       "      <td>36.0</td>\n",
       "      <td>1</td>\n",
       "      <td>1.0</td>\n",
       "      <td>3</td>\n",
       "      <td>0</td>\n",
       "      <td>11</td>\n",
       "      <td>Night Hours (22,6)</td>\n",
       "      <td>Not Serious</td>\n",
       "    </tr>\n",
       "    <tr>\n",
       "      <th>3</th>\n",
       "      <td>3</td>\n",
       "      <td>2016010000008</td>\n",
       "      <td>-0.473837</td>\n",
       "      <td>51.543563</td>\n",
       "      <td>1</td>\n",
       "      <td>3</td>\n",
       "      <td>1</td>\n",
       "      <td>1</td>\n",
       "      <td>2016-11-01</td>\n",
       "      <td>3</td>\n",
       "      <td>01:25</td>\n",
       "      <td>26</td>\n",
       "      <td>E09000017</td>\n",
       "      <td>3</td>\n",
       "      <td>4020</td>\n",
       "      <td>1.0</td>\n",
       "      <td>30.0</td>\n",
       "      <td>1.0</td>\n",
       "      <td>0.0</td>\n",
       "      <td>0.0</td>\n",
       "      <td>4.0</td>\n",
       "      <td>1.0</td>\n",
       "      <td>1.0</td>\n",
       "      <td>0.0</td>\n",
       "      <td>0.0</td>\n",
       "      <td>1</td>\n",
       "      <td>1</td>\n",
       "      <td>1</td>\n",
       "      <td>Car</td>\n",
       "      <td>0.0</td>\n",
       "      <td>18.0</td>\n",
       "      <td>0.0</td>\n",
       "      <td>4.0</td>\n",
       "      <td>5.0</td>\n",
       "      <td>0.0</td>\n",
       "      <td>0.0</td>\n",
       "      <td>0.0</td>\n",
       "      <td>1.0</td>\n",
       "      <td>1.0</td>\n",
       "      <td>6.0</td>\n",
       "      <td>1.0</td>\n",
       "      <td>24.0</td>\n",
       "      <td>2</td>\n",
       "      <td>1.0</td>\n",
       "      <td>2</td>\n",
       "      <td>1</td>\n",
       "      <td>11</td>\n",
       "      <td>Night Hours (22,6)</td>\n",
       "      <td>Not Serious</td>\n",
       "    </tr>\n",
       "    <tr>\n",
       "      <th>4</th>\n",
       "      <td>4</td>\n",
       "      <td>2016010000016</td>\n",
       "      <td>-0.164442</td>\n",
       "      <td>51.404958</td>\n",
       "      <td>1</td>\n",
       "      <td>3</td>\n",
       "      <td>1</td>\n",
       "      <td>1</td>\n",
       "      <td>2016-11-01</td>\n",
       "      <td>3</td>\n",
       "      <td>09:15</td>\n",
       "      <td>22</td>\n",
       "      <td>E09000024</td>\n",
       "      <td>3</td>\n",
       "      <td>217</td>\n",
       "      <td>6.0</td>\n",
       "      <td>30.0</td>\n",
       "      <td>3.0</td>\n",
       "      <td>0.0</td>\n",
       "      <td>0.0</td>\n",
       "      <td>1.0</td>\n",
       "      <td>1.0</td>\n",
       "      <td>1.0</td>\n",
       "      <td>0.0</td>\n",
       "      <td>0.0</td>\n",
       "      <td>1</td>\n",
       "      <td>1</td>\n",
       "      <td>1</td>\n",
       "      <td>Bus</td>\n",
       "      <td>0.0</td>\n",
       "      <td>18.0</td>\n",
       "      <td>0.0</td>\n",
       "      <td>1.0</td>\n",
       "      <td>0.0</td>\n",
       "      <td>0.0</td>\n",
       "      <td>0.0</td>\n",
       "      <td>0.0</td>\n",
       "      <td>0.0</td>\n",
       "      <td>1.0</td>\n",
       "      <td>1.0</td>\n",
       "      <td>1.0</td>\n",
       "      <td>55.0</td>\n",
       "      <td>3</td>\n",
       "      <td>1.0</td>\n",
       "      <td>4</td>\n",
       "      <td>9</td>\n",
       "      <td>11</td>\n",
       "      <td>Morning Rush (6,10)</td>\n",
       "      <td>Not Serious</td>\n",
       "    </tr>\n",
       "  </tbody>\n",
       "</table>\n",
       "</div>"
      ],
      "text/plain": [
       "   Unnamed: 0 Accident_Index  Longitude   Latitude  Police_Force  \\\n",
       "0           0  2016010000005  -0.279323  51.584754             1   \n",
       "1           1  2016010000005  -0.279323  51.584754             1   \n",
       "2           2  2016010000006   0.184928  51.449595             1   \n",
       "3           3  2016010000008  -0.473837  51.543563             1   \n",
       "4           4  2016010000016  -0.164442  51.404958             1   \n",
       "\n",
       "   Accident_Severity Number_of_Vehicles Number_of_Casualties       Date  \\\n",
       "0                  3                  2                    1 2016-11-01   \n",
       "1                  3                  2                    1 2016-11-01   \n",
       "2                  3                  1                    1 2016-11-01   \n",
       "3                  3                  1                    1 2016-11-01   \n",
       "4                  3                  1                    1 2016-11-01   \n",
       "\n",
       "   Day_of_Week   Time  Local_Authority_(District) Local_Authority_(Highway)  \\\n",
       "0            3  02:30                          28                 E09000005   \n",
       "1            3  02:30                          28                 E09000005   \n",
       "2            3  00:37                          18                 E09000004   \n",
       "3            3  01:25                          26                 E09000017   \n",
       "4            3  09:15                          22                 E09000024   \n",
       "\n",
       "   1st_Road_Class  1st_Road_Number  Road_Type  Speed_limit  Junction_Detail  \\\n",
       "0               3             4006        6.0         30.0              0.0   \n",
       "1               3             4006        6.0         30.0              0.0   \n",
       "2               3              207        6.0         30.0              9.0   \n",
       "3               3             4020        1.0         30.0              1.0   \n",
       "4               3              217        6.0         30.0              3.0   \n",
       "\n",
       "   Pedestrian_Crossing-Human_Control  Pedestrian_Crossing-Physical_Facilities  \\\n",
       "0                                0.0                                      0.0   \n",
       "1                                0.0                                      0.0   \n",
       "2                                0.0                                      0.0   \n",
       "3                                0.0                                      0.0   \n",
       "4                                0.0                                      0.0   \n",
       "\n",
       "   Light_Conditions  Weather_Conditions  Road_Surface_Conditions  \\\n",
       "0               5.0                 1.0                      1.0   \n",
       "1               5.0                 1.0                      1.0   \n",
       "2               4.0                 1.0                      1.0   \n",
       "3               4.0                 1.0                      1.0   \n",
       "4               1.0                 1.0                      1.0   \n",
       "\n",
       "   Special_Conditions_at_Site  Carriageway_Hazards  Urban_or_Rural_Area  \\\n",
       "0                         0.0                  0.0                    1   \n",
       "1                         0.0                  0.0                    1   \n",
       "2                         0.0                  0.0                    1   \n",
       "3                         0.0                  0.0                    1   \n",
       "4                         0.0                  0.0                    1   \n",
       "\n",
       "   Did_Police_Officer_Attend_Scene_of_Accident  Vehicle_Reference  \\\n",
       "0                                            1                  1   \n",
       "1                                            1                  2   \n",
       "2                                            1                  1   \n",
       "3                                            1                  1   \n",
       "4                                            1                  1   \n",
       "\n",
       "  Vehicle_Type  Towing_and_Articulation  Vehicle_Manoeuvre  \\\n",
       "0          Car                      0.0                6.0   \n",
       "1   Motorcycle                      0.0               18.0   \n",
       "2          Car                      0.0               18.0   \n",
       "3          Car                      0.0               18.0   \n",
       "4          Bus                      0.0               18.0   \n",
       "\n",
       "   Vehicle_Location-Restricted_Lane  Junction_Location  \\\n",
       "0                               0.0                0.0   \n",
       "1                               0.0                0.0   \n",
       "2                               0.0                2.0   \n",
       "3                               0.0                4.0   \n",
       "4                               0.0                1.0   \n",
       "\n",
       "   Skidding_and_Overturning  Hit_Object_in_Carriageway  \\\n",
       "0                       0.0                        0.0   \n",
       "1                       0.0                        0.0   \n",
       "2                       2.0                       10.0   \n",
       "3                       5.0                        0.0   \n",
       "4                       0.0                        0.0   \n",
       "\n",
       "   Vehicle_Leaving_Carriageway  Hit_Object_off_Carriageway  \\\n",
       "0                          0.0                         0.0   \n",
       "1                          0.0                         0.0   \n",
       "2                          1.0                         0.0   \n",
       "3                          0.0                         0.0   \n",
       "4                          0.0                         0.0   \n",
       "\n",
       "   1st_Point_of_Impact  Was_Vehicle_Left_Hand_Drive?  \\\n",
       "0                  3.0                           1.0   \n",
       "1                  1.0                           1.0   \n",
       "2                  4.0                           1.0   \n",
       "3                  1.0                           1.0   \n",
       "4                  0.0                           1.0   \n",
       "\n",
       "   Journey_Purpose_of_Driver  Sex_of_Driver  Age_of_Driver  Age_of_Vehicle  \\\n",
       "0                        1.0            1.0           51.0               3   \n",
       "1                        6.0            1.0           23.0               2   \n",
       "2                        6.0            2.0           36.0               1   \n",
       "3                        6.0            1.0           24.0               2   \n",
       "4                        1.0            1.0           55.0               3   \n",
       "\n",
       "   Driver_Home_Area_Type  Age_Band_of_Driver  Hour  Month  \\\n",
       "0                    1.0                   4     2     11   \n",
       "1                    1.0                   2     2     11   \n",
       "2                    1.0                   3     0     11   \n",
       "3                    1.0                   2     1     11   \n",
       "4                    1.0                   4     9     11   \n",
       "\n",
       "               Daytime  Seriousness  \n",
       "0   Night Hours (22,6)  Not Serious  \n",
       "1   Night Hours (22,6)  Not Serious  \n",
       "2   Night Hours (22,6)  Not Serious  \n",
       "3   Night Hours (22,6)  Not Serious  \n",
       "4  Morning Rush (6,10)  Not Serious  "
      ]
     },
     "execution_count": 196,
     "metadata": {},
     "output_type": "execute_result"
    }
   ],
   "source": [
    "df.head()"
   ]
  },
  {
   "cell_type": "markdown",
   "metadata": {},
   "source": [
    "### Changing Variable names for beter classification"
   ]
  },
  {
   "cell_type": "code",
   "execution_count": 197,
   "metadata": {},
   "outputs": [],
   "source": [
    "df['Number_of_Vehicles'] = df['Number_of_Vehicles'].replace({0:'0',1:'1',2:'2',3:'3','3+':'4'})"
   ]
  },
  {
   "cell_type": "code",
   "execution_count": 198,
   "metadata": {},
   "outputs": [],
   "source": [
    "df['Number_of_Casualties'] = df['Number_of_Casualties'].replace({0:'0',1:'1',2:'2',3:'3',4:'4','4+':'5'})"
   ]
  },
  {
   "cell_type": "code",
   "execution_count": 199,
   "metadata": {},
   "outputs": [],
   "source": [
    "df['Day_of_Week'] = df['Day_of_Week'].replace({1:'Sun',2:'Mon',3:'Tue',4:'Wed',5:'Thu',6:'Fri',7:'Sat'})"
   ]
  },
  {
   "cell_type": "code",
   "execution_count": 200,
   "metadata": {},
   "outputs": [],
   "source": [
    "df['Month'] = df['Month'].replace({1:'Jan',2:'Feb',3:'Mar',4:'Apr',5:'May',6:'Jun',7:'Jul',8:'Aug',9:'Sep',10:'Oct',11:'Nov',12:'Dec'})"
   ]
  },
  {
   "cell_type": "code",
   "execution_count": 201,
   "metadata": {},
   "outputs": [],
   "source": [
    "df['1st_Road_Class'] = df['1st_Road_Class'].replace({1:'Motorway',2:'A(M)',3:'A',4:'B',5:'C',6:'Unclassified'})"
   ]
  },
  {
   "cell_type": "code",
   "execution_count": 202,
   "metadata": {},
   "outputs": [],
   "source": [
    "df = df.drop(columns=['1st_Road_Number','Longitude','Latitude','Local_Authority_(District)','Local_Authority_(Highway)'], axis=1)"
   ]
  },
  {
   "cell_type": "code",
   "execution_count": 203,
   "metadata": {},
   "outputs": [],
   "source": [
    "df = df.drop(columns=['Accident_Index','Unnamed: 0'], axis=1)"
   ]
  },
  {
   "cell_type": "code",
   "execution_count": 204,
   "metadata": {},
   "outputs": [],
   "source": [
    "df['Road_Type'] = df['Road_Type'].replace({1:'Roundabout',2:'One way Street',3:'Dual Carriageway',6:'Single Carriageway',7:'Slip Road',9:'Unknown'})"
   ]
  },
  {
   "cell_type": "code",
   "execution_count": 205,
   "metadata": {},
   "outputs": [],
   "source": [
    "df['Speed_limit'] = df['Speed_limit'].replace({20:'20 mph',30:'30 mph',40:'40 mph',50:'50 mph',60:'60 mph',70:'70 mph'})"
   ]
  },
  {
   "cell_type": "code",
   "execution_count": 206,
   "metadata": {},
   "outputs": [],
   "source": [
    "df['Junction_Detail'] = df['Junction_Detail'].replace({0:'Not at junction or within 20 metres',1:'Roundabout',2:'Mini-Roundabout',3:'T or Staggered Junction',5:'Slip Road',6:'Crossroads',7:'More than 4 arms (Not Roundabout)',8:'Private drive or Entrance',9:'Other Junction'})"
   ]
  },
  {
   "cell_type": "code",
   "execution_count": 207,
   "metadata": {},
   "outputs": [],
   "source": [
    "df['Light_Conditions'] = df['Light_Conditions'].replace({1:'Daylight',4:'Darkness - Lights Lit',5:'Darkness - Lights Unlit',6:'Darkness - No Lighting',7:'Darkness - Lighting Unknown'})"
   ]
  },
  {
   "cell_type": "code",
   "execution_count": 208,
   "metadata": {},
   "outputs": [],
   "source": [
    "df['Weather_Conditions'] = df['Weather_Conditions'].replace({1:'Fine, No High Winds',2:'Raining, No High Winds',3:'Snowing, No High Winds',4:'Fine + High Winds',5:'Raining + High Winds',6:'Snowing + High Winds',7:'Fog or Mist',8:'Other',9:'Unknown'})"
   ]
  },
  {
   "cell_type": "code",
   "execution_count": 209,
   "metadata": {},
   "outputs": [],
   "source": [
    "df['Road_Surface_Conditions'] = df['Road_Surface_Conditions'].replace({1:'Dry',2:'Wet or Damp',3:'Snow',4:'Frost of Ice',5:'Flood over 3 cm. deep'})"
   ]
  },
  {
   "cell_type": "code",
   "execution_count": 210,
   "metadata": {},
   "outputs": [],
   "source": [
    "df['Urban_or_Rural_Area'] = df['Urban_or_Rural_Area'].replace({1:'Urban',2:'Rural',3:'Unallocated'})"
   ]
  },
  {
   "cell_type": "code",
   "execution_count": 211,
   "metadata": {},
   "outputs": [],
   "source": [
    "df['Vehicle_Manoeuvre'] = df['Vehicle_Manoeuvre'].replace({1:'Reversing', 2:'Parked', 3:'Waiting to go - held up',\n",
    "                                        4:'Slowing or stopping', 5:'Moving off', 6:'U-turn',\n",
    "                                        7:'Turning left', 8:'Waiting to turn left', 9:'Turning right',\n",
    "                                        10:'Waiting to turn right', 11:'Changing lane to left', 12:'Changing lane to right',\n",
    "                                        13:'Overtaking moving vehicle - offside', 14:'Overtaking static vehicle - offside',\n",
    "                                        15:'Overtaking - nearside', 16:'Going ahead left-hand bend',\n",
    "                                        17:'Going ahead right-hand bend', 18:'Going ahead other'})"
   ]
  },
  {
   "cell_type": "code",
   "execution_count": 212,
   "metadata": {},
   "outputs": [],
   "source": [
    "df['Junction_Location'] = df['Junction_Location'].replace({0:'Not at or within 20 metres of junction', 1:'Approaching junction or waiting/parked at junction approach',\n",
    "                            2:'Cleared junction or waiting/parked at junction exit', 3:'Leaving roundabout',\n",
    "                            4:'Entering roundabout', 5:'Leaving main road', 6:'Entering main road',\n",
    "                            7:'Entering from slip road', 8:'Mid Junction - on roundabout or on main road'})"
   ]
  },
  {
   "cell_type": "code",
   "execution_count": 213,
   "metadata": {},
   "outputs": [],
   "source": [
    "df['1st_Point_of_Impact'] = df['1st_Point_of_Impact'].replace({0:'Did not Impact', 1:'Front', 2:'Back', 3:'Offside', 4:'Nearside'})"
   ]
  },
  {
   "cell_type": "code",
   "execution_count": 214,
   "metadata": {},
   "outputs": [],
   "source": [
    "df['Sex_of_Driver'] = df['Sex_of_Driver'].replace({1:'Male', 2:'Female', 3:'Not known'})"
   ]
  },
  {
   "cell_type": "code",
   "execution_count": 215,
   "metadata": {},
   "outputs": [],
   "source": [
    "df['Age_Band_of_Driver'] = df['Age_Band_of_Driver'].replace({1:'0-15', 2:'16-25', 3:'26-45', 4:'46-65', 5:'65+'})"
   ]
  },
  {
   "cell_type": "code",
   "execution_count": 216,
   "metadata": {},
   "outputs": [],
   "source": [
    "df['Age_of_Vehicle'] = df['Age_of_Vehicle'].replace({1:'0-2', 2:'3-5', 3:'6-8', 4:'9-12', 5:'13-15', 6:'16-22', 7:'22+'})"
   ]
  },
  {
   "cell_type": "code",
   "execution_count": 217,
   "metadata": {},
   "outputs": [],
   "source": [
    "df = df.drop(columns=['Police_Force','Date','Time','Pedestrian_Crossing-Human_Control','Pedestrian_Crossing-Physical_Facilities'\n",
    "                     ,'Special_Conditions_at_Site','Carriageway_Hazards','Did_Police_Officer_Attend_Scene_of_Accident'\n",
    "                     ,'Vehicle_Reference','Towing_and_Articulation','Vehicle_Location-Restricted_Lane','Skidding_and_Overturning'\n",
    "                     ,'Hit_Object_in_Carriageway','Vehicle_Leaving_Carriageway','Hit_Object_off_Carriageway'\n",
    "                     ,'Was_Vehicle_Left_Hand_Drive?','Journey_Purpose_of_Driver','Age_of_Driver','Driver_Home_Area_Type'])"
   ]
  },
  {
   "cell_type": "code",
   "execution_count": 218,
   "metadata": {},
   "outputs": [],
   "source": [
    "df = df.drop(columns=['Accident_Severity'])"
   ]
  },
  {
   "cell_type": "code",
   "execution_count": 219,
   "metadata": {},
   "outputs": [],
   "source": [
    "df['Hour'] = df['Hour'].astype('object')"
   ]
  },
  {
   "cell_type": "code",
   "execution_count": 220,
   "metadata": {},
   "outputs": [
    {
     "name": "stdout",
     "output_type": "stream",
     "text": [
      "<class 'pandas.core.frame.DataFrame'>\n",
      "RangeIndex: 248589 entries, 0 to 248588\n",
      "Data columns (total 22 columns):\n",
      " #   Column                   Non-Null Count   Dtype \n",
      "---  ------                   --------------   ----- \n",
      " 0   Number_of_Vehicles       248589 non-null  object\n",
      " 1   Number_of_Casualties     248589 non-null  object\n",
      " 2   Day_of_Week              248589 non-null  object\n",
      " 3   1st_Road_Class           248589 non-null  object\n",
      " 4   Road_Type                248589 non-null  object\n",
      " 5   Speed_limit              248589 non-null  object\n",
      " 6   Junction_Detail          248589 non-null  object\n",
      " 7   Light_Conditions         248589 non-null  object\n",
      " 8   Weather_Conditions       248589 non-null  object\n",
      " 9   Road_Surface_Conditions  248589 non-null  object\n",
      " 10  Urban_or_Rural_Area      248589 non-null  object\n",
      " 11  Vehicle_Type             248589 non-null  object\n",
      " 12  Vehicle_Manoeuvre        248589 non-null  object\n",
      " 13  Junction_Location        248589 non-null  object\n",
      " 14  1st_Point_of_Impact      248589 non-null  object\n",
      " 15  Sex_of_Driver            248589 non-null  object\n",
      " 16  Age_of_Vehicle           248589 non-null  object\n",
      " 17  Age_Band_of_Driver       248589 non-null  object\n",
      " 18  Hour                     248589 non-null  object\n",
      " 19  Month                    248589 non-null  object\n",
      " 20  Daytime                  248589 non-null  object\n",
      " 21  Seriousness              248589 non-null  object\n",
      "dtypes: object(22)\n",
      "memory usage: 41.7+ MB\n"
     ]
    }
   ],
   "source": [
    "df.info()"
   ]
  },
  {
   "cell_type": "code",
   "execution_count": 221,
   "metadata": {},
   "outputs": [
    {
     "data": {
      "text/html": [
       "<div>\n",
       "<style scoped>\n",
       "    .dataframe tbody tr th:only-of-type {\n",
       "        vertical-align: middle;\n",
       "    }\n",
       "\n",
       "    .dataframe tbody tr th {\n",
       "        vertical-align: top;\n",
       "    }\n",
       "\n",
       "    .dataframe thead th {\n",
       "        text-align: right;\n",
       "    }\n",
       "</style>\n",
       "<table border=\"1\" class=\"dataframe\">\n",
       "  <thead>\n",
       "    <tr style=\"text-align: right;\">\n",
       "      <th></th>\n",
       "      <th>Number_of_Vehicles</th>\n",
       "      <th>Number_of_Casualties</th>\n",
       "      <th>Day_of_Week</th>\n",
       "      <th>1st_Road_Class</th>\n",
       "      <th>Road_Type</th>\n",
       "      <th>Speed_limit</th>\n",
       "      <th>Junction_Detail</th>\n",
       "      <th>Light_Conditions</th>\n",
       "      <th>Weather_Conditions</th>\n",
       "      <th>Road_Surface_Conditions</th>\n",
       "      <th>Urban_or_Rural_Area</th>\n",
       "      <th>Vehicle_Type</th>\n",
       "      <th>Vehicle_Manoeuvre</th>\n",
       "      <th>Junction_Location</th>\n",
       "      <th>1st_Point_of_Impact</th>\n",
       "      <th>Sex_of_Driver</th>\n",
       "      <th>Age_of_Vehicle</th>\n",
       "      <th>Age_Band_of_Driver</th>\n",
       "      <th>Hour</th>\n",
       "      <th>Month</th>\n",
       "      <th>Daytime</th>\n",
       "      <th>Seriousness</th>\n",
       "    </tr>\n",
       "  </thead>\n",
       "  <tbody>\n",
       "    <tr>\n",
       "      <th>count</th>\n",
       "      <td>248589</td>\n",
       "      <td>248589</td>\n",
       "      <td>248589</td>\n",
       "      <td>248589</td>\n",
       "      <td>248589</td>\n",
       "      <td>248589</td>\n",
       "      <td>248589</td>\n",
       "      <td>248589</td>\n",
       "      <td>248589</td>\n",
       "      <td>248589</td>\n",
       "      <td>248589</td>\n",
       "      <td>248589</td>\n",
       "      <td>248589</td>\n",
       "      <td>248589</td>\n",
       "      <td>248589</td>\n",
       "      <td>248589</td>\n",
       "      <td>248589</td>\n",
       "      <td>248589</td>\n",
       "      <td>248589</td>\n",
       "      <td>248589</td>\n",
       "      <td>248589</td>\n",
       "      <td>248589</td>\n",
       "    </tr>\n",
       "    <tr>\n",
       "      <th>unique</th>\n",
       "      <td>4</td>\n",
       "      <td>5</td>\n",
       "      <td>7</td>\n",
       "      <td>6</td>\n",
       "      <td>6</td>\n",
       "      <td>6</td>\n",
       "      <td>9</td>\n",
       "      <td>5</td>\n",
       "      <td>9</td>\n",
       "      <td>5</td>\n",
       "      <td>2</td>\n",
       "      <td>5</td>\n",
       "      <td>18</td>\n",
       "      <td>9</td>\n",
       "      <td>5</td>\n",
       "      <td>3</td>\n",
       "      <td>7</td>\n",
       "      <td>5</td>\n",
       "      <td>24</td>\n",
       "      <td>12</td>\n",
       "      <td>5</td>\n",
       "      <td>2</td>\n",
       "    </tr>\n",
       "    <tr>\n",
       "      <th>top</th>\n",
       "      <td>2</td>\n",
       "      <td>1</td>\n",
       "      <td>Fri</td>\n",
       "      <td>A</td>\n",
       "      <td>Single Carriageway</td>\n",
       "      <td>30 mph</td>\n",
       "      <td>Not at junction or within 20 metres</td>\n",
       "      <td>Daylight</td>\n",
       "      <td>Fine, No High Winds</td>\n",
       "      <td>Dry</td>\n",
       "      <td>Urban</td>\n",
       "      <td>Car</td>\n",
       "      <td>Going ahead other</td>\n",
       "      <td>Not at or within 20 metres of junction</td>\n",
       "      <td>Front</td>\n",
       "      <td>Male</td>\n",
       "      <td>6-8</td>\n",
       "      <td>26-45</td>\n",
       "      <td>17</td>\n",
       "      <td>Nov</td>\n",
       "      <td>Office Hours (10,16)</td>\n",
       "      <td>Not Serious</td>\n",
       "    </tr>\n",
       "    <tr>\n",
       "      <th>freq</th>\n",
       "      <td>163011</td>\n",
       "      <td>184368</td>\n",
       "      <td>41215</td>\n",
       "      <td>115593</td>\n",
       "      <td>181798</td>\n",
       "      <td>150322</td>\n",
       "      <td>100270</td>\n",
       "      <td>183215</td>\n",
       "      <td>206671</td>\n",
       "      <td>183290</td>\n",
       "      <td>157618</td>\n",
       "      <td>182238</td>\n",
       "      <td>119357</td>\n",
       "      <td>100274</td>\n",
       "      <td>121892</td>\n",
       "      <td>161808</td>\n",
       "      <td>98126</td>\n",
       "      <td>122647</td>\n",
       "      <td>22606</td>\n",
       "      <td>22283</td>\n",
       "      <td>88239</td>\n",
       "      <td>208584</td>\n",
       "    </tr>\n",
       "  </tbody>\n",
       "</table>\n",
       "</div>"
      ],
      "text/plain": [
       "       Number_of_Vehicles Number_of_Casualties Day_of_Week 1st_Road_Class  \\\n",
       "count              248589               248589      248589         248589   \n",
       "unique                  4                    5           7              6   \n",
       "top                     2                    1         Fri              A   \n",
       "freq               163011               184368       41215         115593   \n",
       "\n",
       "                 Road_Type Speed_limit                      Junction_Detail  \\\n",
       "count               248589      248589                               248589   \n",
       "unique                   6           6                                    9   \n",
       "top     Single Carriageway      30 mph  Not at junction or within 20 metres   \n",
       "freq                181798      150322                               100270   \n",
       "\n",
       "       Light_Conditions   Weather_Conditions Road_Surface_Conditions  \\\n",
       "count            248589               248589                  248589   \n",
       "unique                5                    9                       5   \n",
       "top            Daylight  Fine, No High Winds                     Dry   \n",
       "freq             183215               206671                  183290   \n",
       "\n",
       "       Urban_or_Rural_Area Vehicle_Type  Vehicle_Manoeuvre  \\\n",
       "count               248589       248589             248589   \n",
       "unique                   2            5                 18   \n",
       "top                  Urban          Car  Going ahead other   \n",
       "freq                157618       182238             119357   \n",
       "\n",
       "                             Junction_Location 1st_Point_of_Impact  \\\n",
       "count                                   248589              248589   \n",
       "unique                                       9                   5   \n",
       "top     Not at or within 20 metres of junction               Front   \n",
       "freq                                    100274              121892   \n",
       "\n",
       "       Sex_of_Driver Age_of_Vehicle Age_Band_of_Driver    Hour   Month  \\\n",
       "count         248589         248589             248589  248589  248589   \n",
       "unique             3              7                  5      24      12   \n",
       "top             Male            6-8              26-45      17     Nov   \n",
       "freq          161808          98126             122647   22606   22283   \n",
       "\n",
       "                     Daytime  Seriousness  \n",
       "count                 248589       248589  \n",
       "unique                     5            2  \n",
       "top     Office Hours (10,16)  Not Serious  \n",
       "freq                   88239       208584  "
      ]
     },
     "execution_count": 221,
     "metadata": {},
     "output_type": "execute_result"
    }
   ],
   "source": [
    "df.describe(include='all')"
   ]
  },
  {
   "cell_type": "code",
   "execution_count": 223,
   "metadata": {},
   "outputs": [
    {
     "data": {
      "text/html": [
       "<div>\n",
       "<style scoped>\n",
       "    .dataframe tbody tr th:only-of-type {\n",
       "        vertical-align: middle;\n",
       "    }\n",
       "\n",
       "    .dataframe tbody tr th {\n",
       "        vertical-align: top;\n",
       "    }\n",
       "\n",
       "    .dataframe thead th {\n",
       "        text-align: right;\n",
       "    }\n",
       "</style>\n",
       "<table border=\"1\" class=\"dataframe\">\n",
       "  <thead>\n",
       "    <tr style=\"text-align: right;\">\n",
       "      <th></th>\n",
       "      <th>Number_of_Vehicles</th>\n",
       "      <th>Number_of_Casualties</th>\n",
       "      <th>Day_of_Week</th>\n",
       "      <th>1st_Road_Class</th>\n",
       "      <th>Road_Type</th>\n",
       "      <th>Speed_limit</th>\n",
       "      <th>Junction_Detail</th>\n",
       "      <th>Light_Conditions</th>\n",
       "      <th>Weather_Conditions</th>\n",
       "      <th>Road_Surface_Conditions</th>\n",
       "      <th>Urban_or_Rural_Area</th>\n",
       "      <th>Vehicle_Type</th>\n",
       "      <th>Vehicle_Manoeuvre</th>\n",
       "      <th>Junction_Location</th>\n",
       "      <th>1st_Point_of_Impact</th>\n",
       "      <th>Sex_of_Driver</th>\n",
       "      <th>Age_of_Vehicle</th>\n",
       "      <th>Age_Band_of_Driver</th>\n",
       "      <th>Hour</th>\n",
       "      <th>Month</th>\n",
       "      <th>Daytime</th>\n",
       "      <th>Seriousness</th>\n",
       "    </tr>\n",
       "  </thead>\n",
       "  <tbody>\n",
       "    <tr>\n",
       "      <th>0</th>\n",
       "      <td>2</td>\n",
       "      <td>1</td>\n",
       "      <td>Tue</td>\n",
       "      <td>A</td>\n",
       "      <td>Single Carriageway</td>\n",
       "      <td>30 mph</td>\n",
       "      <td>Not at junction or within 20 metres</td>\n",
       "      <td>Darkness - Lights Unlit</td>\n",
       "      <td>Fine, No High Winds</td>\n",
       "      <td>Dry</td>\n",
       "      <td>Urban</td>\n",
       "      <td>Car</td>\n",
       "      <td>U-turn</td>\n",
       "      <td>Not at or within 20 metres of junction</td>\n",
       "      <td>Offside</td>\n",
       "      <td>Male</td>\n",
       "      <td>6-8</td>\n",
       "      <td>46-65</td>\n",
       "      <td>2</td>\n",
       "      <td>Nov</td>\n",
       "      <td>Night Hours (22,6)</td>\n",
       "      <td>Not Serious</td>\n",
       "    </tr>\n",
       "    <tr>\n",
       "      <th>1</th>\n",
       "      <td>2</td>\n",
       "      <td>1</td>\n",
       "      <td>Tue</td>\n",
       "      <td>A</td>\n",
       "      <td>Single Carriageway</td>\n",
       "      <td>30 mph</td>\n",
       "      <td>Not at junction or within 20 metres</td>\n",
       "      <td>Darkness - Lights Unlit</td>\n",
       "      <td>Fine, No High Winds</td>\n",
       "      <td>Dry</td>\n",
       "      <td>Urban</td>\n",
       "      <td>Motorcycle</td>\n",
       "      <td>Going ahead other</td>\n",
       "      <td>Not at or within 20 metres of junction</td>\n",
       "      <td>Front</td>\n",
       "      <td>Male</td>\n",
       "      <td>3-5</td>\n",
       "      <td>16-25</td>\n",
       "      <td>2</td>\n",
       "      <td>Nov</td>\n",
       "      <td>Night Hours (22,6)</td>\n",
       "      <td>Not Serious</td>\n",
       "    </tr>\n",
       "    <tr>\n",
       "      <th>2</th>\n",
       "      <td>1</td>\n",
       "      <td>1</td>\n",
       "      <td>Tue</td>\n",
       "      <td>A</td>\n",
       "      <td>Single Carriageway</td>\n",
       "      <td>30 mph</td>\n",
       "      <td>Other Junction</td>\n",
       "      <td>Darkness - Lights Lit</td>\n",
       "      <td>Fine, No High Winds</td>\n",
       "      <td>Dry</td>\n",
       "      <td>Urban</td>\n",
       "      <td>Car</td>\n",
       "      <td>Going ahead other</td>\n",
       "      <td>Cleared junction or waiting/parked at junction...</td>\n",
       "      <td>Nearside</td>\n",
       "      <td>Female</td>\n",
       "      <td>0-2</td>\n",
       "      <td>26-45</td>\n",
       "      <td>0</td>\n",
       "      <td>Nov</td>\n",
       "      <td>Night Hours (22,6)</td>\n",
       "      <td>Not Serious</td>\n",
       "    </tr>\n",
       "    <tr>\n",
       "      <th>3</th>\n",
       "      <td>1</td>\n",
       "      <td>1</td>\n",
       "      <td>Tue</td>\n",
       "      <td>A</td>\n",
       "      <td>Roundabout</td>\n",
       "      <td>30 mph</td>\n",
       "      <td>Roundabout</td>\n",
       "      <td>Darkness - Lights Lit</td>\n",
       "      <td>Fine, No High Winds</td>\n",
       "      <td>Dry</td>\n",
       "      <td>Urban</td>\n",
       "      <td>Car</td>\n",
       "      <td>Going ahead other</td>\n",
       "      <td>Entering roundabout</td>\n",
       "      <td>Front</td>\n",
       "      <td>Male</td>\n",
       "      <td>3-5</td>\n",
       "      <td>16-25</td>\n",
       "      <td>1</td>\n",
       "      <td>Nov</td>\n",
       "      <td>Night Hours (22,6)</td>\n",
       "      <td>Not Serious</td>\n",
       "    </tr>\n",
       "    <tr>\n",
       "      <th>4</th>\n",
       "      <td>1</td>\n",
       "      <td>1</td>\n",
       "      <td>Tue</td>\n",
       "      <td>A</td>\n",
       "      <td>Single Carriageway</td>\n",
       "      <td>30 mph</td>\n",
       "      <td>T or Staggered Junction</td>\n",
       "      <td>Daylight</td>\n",
       "      <td>Fine, No High Winds</td>\n",
       "      <td>Dry</td>\n",
       "      <td>Urban</td>\n",
       "      <td>Bus</td>\n",
       "      <td>Going ahead other</td>\n",
       "      <td>Approaching junction or waiting/parked at junc...</td>\n",
       "      <td>Did not Impact</td>\n",
       "      <td>Male</td>\n",
       "      <td>6-8</td>\n",
       "      <td>46-65</td>\n",
       "      <td>9</td>\n",
       "      <td>Nov</td>\n",
       "      <td>Morning Rush (6,10)</td>\n",
       "      <td>Not Serious</td>\n",
       "    </tr>\n",
       "  </tbody>\n",
       "</table>\n",
       "</div>"
      ],
      "text/plain": [
       "  Number_of_Vehicles Number_of_Casualties Day_of_Week 1st_Road_Class  \\\n",
       "0                  2                    1         Tue              A   \n",
       "1                  2                    1         Tue              A   \n",
       "2                  1                    1         Tue              A   \n",
       "3                  1                    1         Tue              A   \n",
       "4                  1                    1         Tue              A   \n",
       "\n",
       "            Road_Type Speed_limit                      Junction_Detail  \\\n",
       "0  Single Carriageway      30 mph  Not at junction or within 20 metres   \n",
       "1  Single Carriageway      30 mph  Not at junction or within 20 metres   \n",
       "2  Single Carriageway      30 mph                       Other Junction   \n",
       "3          Roundabout      30 mph                           Roundabout   \n",
       "4  Single Carriageway      30 mph              T or Staggered Junction   \n",
       "\n",
       "          Light_Conditions   Weather_Conditions Road_Surface_Conditions  \\\n",
       "0  Darkness - Lights Unlit  Fine, No High Winds                     Dry   \n",
       "1  Darkness - Lights Unlit  Fine, No High Winds                     Dry   \n",
       "2    Darkness - Lights Lit  Fine, No High Winds                     Dry   \n",
       "3    Darkness - Lights Lit  Fine, No High Winds                     Dry   \n",
       "4                 Daylight  Fine, No High Winds                     Dry   \n",
       "\n",
       "  Urban_or_Rural_Area Vehicle_Type  Vehicle_Manoeuvre  \\\n",
       "0               Urban          Car             U-turn   \n",
       "1               Urban   Motorcycle  Going ahead other   \n",
       "2               Urban          Car  Going ahead other   \n",
       "3               Urban          Car  Going ahead other   \n",
       "4               Urban          Bus  Going ahead other   \n",
       "\n",
       "                                   Junction_Location 1st_Point_of_Impact  \\\n",
       "0             Not at or within 20 metres of junction             Offside   \n",
       "1             Not at or within 20 metres of junction               Front   \n",
       "2  Cleared junction or waiting/parked at junction...            Nearside   \n",
       "3                                Entering roundabout               Front   \n",
       "4  Approaching junction or waiting/parked at junc...      Did not Impact   \n",
       "\n",
       "  Sex_of_Driver Age_of_Vehicle Age_Band_of_Driver Hour Month  \\\n",
       "0          Male            6-8              46-65    2   Nov   \n",
       "1          Male            3-5              16-25    2   Nov   \n",
       "2        Female            0-2              26-45    0   Nov   \n",
       "3          Male            3-5              16-25    1   Nov   \n",
       "4          Male            6-8              46-65    9   Nov   \n",
       "\n",
       "               Daytime  Seriousness  \n",
       "0   Night Hours (22,6)  Not Serious  \n",
       "1   Night Hours (22,6)  Not Serious  \n",
       "2   Night Hours (22,6)  Not Serious  \n",
       "3   Night Hours (22,6)  Not Serious  \n",
       "4  Morning Rush (6,10)  Not Serious  "
      ]
     },
     "execution_count": 223,
     "metadata": {},
     "output_type": "execute_result"
    }
   ],
   "source": [
    "df.head()"
   ]
  },
  {
   "cell_type": "code",
   "execution_count": 224,
   "metadata": {},
   "outputs": [],
   "source": [
    "import pickle\n",
    "#with open('final_df_for_ml', 'wb') as file:\n",
    "#    pickle.dump(df, file)"
   ]
  },
  {
   "cell_type": "code",
   "execution_count": 225,
   "metadata": {},
   "outputs": [],
   "source": [
    "#with open('final_df_for_ml', 'rb') as file:\n",
    "#    dff = pickle.load(file)"
   ]
  },
  {
   "cell_type": "markdown",
   "metadata": {},
   "source": [
    "## Machine Learning"
   ]
  },
  {
   "cell_type": "code",
   "execution_count": 227,
   "metadata": {},
   "outputs": [],
   "source": [
    "#Set up of X and Y\n",
    "X= df.drop(['Seriousness'],axis=1)\n",
    "y= df['Seriousness']"
   ]
  },
  {
   "cell_type": "code",
   "execution_count": 228,
   "metadata": {},
   "outputs": [
    {
     "data": {
      "image/png": "[encoded data removed]",
      "text/plain": [
       "<Figure size 864x432 with 1 Axes>"
      ]
     },
     "metadata": {},
     "output_type": "display_data"
    }
   ],
   "source": [
    "plt.figure(figsize=(12,6))\n",
    "ax=sns.countplot(x='Seriousness', palette=\"magma\", data=df)\n",
    "\n",
    "sns.set_style('whitegrid')\n",
    "plt.title(\"Accident Seriousness\",fontsize=25,fontweight=\"bold\")\n",
    "plt.xlabel(\"\", fontsize=15, fontweight=\"bold\")\n",
    "plt.ylabel(\"\\nNumber of Accidents\\n\", fontsize=15, fontweight=\"bold\")\n",
    "plt.xticks(fontsize=18)\n",
    "plt.yticks(fontsize=12);"
   ]
  },
  {
   "cell_type": "markdown",
   "metadata": {},
   "source": [
    "### Imbalanced Data"
   ]
  },
  {
   "cell_type": "markdown",
   "metadata": {},
   "source": [
    "The data in this dataset is extremely imbalanced for what we are trying to predict. We are going to resample the data as undersampling, where we reduce the number of majority (Not Serious Accidents) samples."
   ]
  },
  {
   "cell_type": "markdown",
   "metadata": {},
   "source": [
    "### Resampling"
   ]
  },
  {
   "cell_type": "code",
   "execution_count": 303,
   "metadata": {},
   "outputs": [],
   "source": [
    "# Label Encoding\n",
    "le = LabelEncoder()\n",
    "X = X.apply(le.fit_transform)"
   ]
  },
  {
   "cell_type": "code",
   "execution_count": 304,
   "metadata": {},
   "outputs": [],
   "source": [
    "# setting up testing and training sets\n",
    "res_X_train, res_X_test, res_y_train, res_y_test = train_test_split(X, y, test_size=0.2, random_state=1)"
   ]
  },
  {
   "cell_type": "code",
   "execution_count": 305,
   "metadata": {},
   "outputs": [],
   "source": [
    "# concatenate our training data back together\n",
    "res_X = pd.concat([res_X_train, res_y_train], axis=1)"
   ]
  },
  {
   "cell_type": "code",
   "execution_count": 306,
   "metadata": {},
   "outputs": [],
   "source": [
    "# separate minority and majority classes\n",
    "not_serious = res_X[res_X.Seriousness=='Not Serious']\n",
    "serious = res_X[res_X.Seriousness=='Serious']"
   ]
  },
  {
   "cell_type": "code",
   "execution_count": 307,
   "metadata": {},
   "outputs": [],
   "source": [
    "# decrease majority\n",
    "not_serious_decreased = resample( not_serious,\n",
    "                                  replace=True, # sample with replacement\n",
    "                                  n_samples=len(serious), # match number in majority class\n",
    "                                  random_state=1) # reproducible results"
   ]
  },
  {
   "cell_type": "code",
   "execution_count": 308,
   "metadata": {},
   "outputs": [],
   "source": [
    "# combine majority and severe_increased minority\n",
    "newdf = pd.concat([serious, not_serious_decreased])"
   ]
  },
  {
   "cell_type": "code",
   "execution_count": 309,
   "metadata": {},
   "outputs": [
    {
     "data": {
      "image/png": "[encoded data removed]",
      "text/plain": [
       "<Figure size 864x432 with 1 Axes>"
      ]
     },
     "metadata": {},
     "output_type": "display_data"
    }
   ],
   "source": [
    "plt.figure(figsize=(12,6))\n",
    "ax=sns.countplot(x='Seriousness', palette=\"magma\", data=newdf)\n",
    "\n",
    "sns.set_style('whitegrid')\n",
    "plt.title(\"Accident Seriousness\",fontsize=25,fontweight=\"bold\")\n",
    "plt.xlabel(\"\", fontsize=15, fontweight=\"bold\")\n",
    "plt.ylabel(\"\\nNumber of Accidents\\n\", fontsize=15, fontweight=\"bold\")\n",
    "plt.xticks(fontsize=18)\n",
    "plt.yticks(fontsize=12);"
   ]
  },
  {
   "cell_type": "code",
   "execution_count": 310,
   "metadata": {},
   "outputs": [],
   "source": [
    "res_X_train = newdf.drop('Seriousness', axis=1)\n",
    "res_y_train = newdf.Seriousness"
   ]
  },
  {
   "cell_type": "markdown",
   "metadata": {},
   "source": [
    "### Supervised Learning with Random Forest"
   ]
  },
  {
   "cell_type": "markdown",
   "metadata": {},
   "source": [
    "We are going to run Random Forest Classifier algorithm , gather the results of some scoring metrics (Accuracy, Log Loss, Cross Validation, Recall, Roc Auc, F1, False Positive Rate, Error Rate), and put those scores into a dataframe"
   ]
  },
  {
   "cell_type": "code",
   "execution_count": 312,
   "metadata": {},
   "outputs": [],
   "source": [
    "classifier = RandomForestClassifier(criterion='entropy', max_depth=40,max_features=X.shape[1], \n",
    "                                    min_samples_split=8, n_estimators=500, random_state=1)"
   ]
  },
  {
   "cell_type": "code",
   "execution_count": 425,
   "metadata": {},
   "outputs": [
    {
     "data": {
      "text/plain": [
       "RandomForestClassifier(criterion='entropy', max_depth=40, max_features=21,\n",
       "                       min_samples_split=8, n_estimators=500, random_state=1)"
      ]
     },
     "execution_count": 425,
     "metadata": {},
     "output_type": "execute_result"
    }
   ],
   "source": [
    "classifier.fit(res_X_train, res_y_train)"
   ]
  },
  {
   "cell_type": "code",
   "execution_count": 426,
   "metadata": {},
   "outputs": [],
   "source": [
    "name = classifier.__class__.__name__\n",
    "y_pred = classifier.predict(res_X_test)"
   ]
  },
  {
   "cell_type": "code",
   "execution_count": 427,
   "metadata": {},
   "outputs": [],
   "source": [
    "#confusion matrix plot function\n",
    "def cm_plot(var):\n",
    "    plt.figure(figsize=(20,8))\n",
    "    sns.set_style('white')\n",
    "    plt.clf()\n",
    "    plt.imshow(var, interpolation='nearest', cmap='tab10')\n",
    "    classNames = ['Not Serious','Serious']\n",
    "    plt.title('Confusion Matrix', fontsize=16)\n",
    "    plt.ylabel('Actual\\n', fontsize=14)\n",
    "    plt.xlabel('Predicted\\n', fontsize=14)\n",
    "    tick_marks = np.arange(len(classNames))\n",
    "    plt.xticks(tick_marks, classNames, fontsize=12)\n",
    "    plt.yticks(tick_marks, classNames, fontsize=12)\n",
    "    s = [['TN','FP'], ['FN', 'TP']]\n",
    "    \n",
    "    for i in range(2):\n",
    "        for j in range(2):\n",
    "            plt.text(j,i, str(s[i][j])+\"=\"+str(var[i][j]),horizontalalignment='center', \n",
    "                     color='white', fontsize=14)\n",
    "    plt.show()"
   ]
  },
  {
   "cell_type": "code",
   "execution_count": 428,
   "metadata": {},
   "outputs": [
    {
     "data": {
      "image/png": "[encoded data removed]",
      "text/plain": [
       "<Figure size 1440x576 with 1 Axes>"
      ]
     },
     "metadata": {},
     "output_type": "display_data"
    }
   ],
   "source": [
    "cm = confusion_matrix(res_y_test, y_pred)\n",
    "\n",
    "cm_plot(cm)\n",
    "\n",
    "#FPR and Error Rate setup\n",
    "tn, fp, fn, tp = confusion_matrix(res_y_test,y_pred).ravel()\n",
    "\n",
    "acc = accuracy_score(res_y_test, y_pred)\n",
    "pre= tp/(tp+fp)\n",
    "rec= tp/(tp+fn)\n",
    "f1s= 2*pre/(pre+rec)\n",
    "#putting results in df\n",
    "res_cols=[\"Classifier\", \"Accuracy\", \"Precision\", \"Recall\",\"F1 Score\"]\n",
    "results = pd.DataFrame(columns=res_cols)\n",
    "results_final = pd.DataFrame([[name, round(acc*100,3),round(pre*100,3),round(rec*100,3),round(f1s*100,3)]],\n",
    "                               columns=res_cols)\n",
    "results = results.append(results_final)"
   ]
  },
  {
   "cell_type": "code",
   "execution_count": 429,
   "metadata": {},
   "outputs": [
    {
     "data": {
      "text/html": [
       "<div>\n",
       "<style scoped>\n",
       "    .dataframe tbody tr th:only-of-type {\n",
       "        vertical-align: middle;\n",
       "    }\n",
       "\n",
       "    .dataframe tbody tr th {\n",
       "        vertical-align: top;\n",
       "    }\n",
       "\n",
       "    .dataframe thead th {\n",
       "        text-align: right;\n",
       "    }\n",
       "</style>\n",
       "<table border=\"1\" class=\"dataframe\">\n",
       "  <thead>\n",
       "    <tr style=\"text-align: right;\">\n",
       "      <th></th>\n",
       "      <th>Classifier</th>\n",
       "      <th>Accuracy</th>\n",
       "      <th>Precision</th>\n",
       "      <th>Recall</th>\n",
       "      <th>F1 Score</th>\n",
       "    </tr>\n",
       "  </thead>\n",
       "  <tbody>\n",
       "    <tr>\n",
       "      <th>0</th>\n",
       "      <td>RandomForestClassifier</td>\n",
       "      <td>64.456</td>\n",
       "      <td>26.242</td>\n",
       "      <td>65.848</td>\n",
       "      <td>56.992</td>\n",
       "    </tr>\n",
       "  </tbody>\n",
       "</table>\n",
       "</div>"
      ],
      "text/plain": [
       "               Classifier  Accuracy  Precision  Recall  F1 Score\n",
       "0  RandomForestClassifier    64.456     26.242  65.848    56.992"
      ]
     },
     "execution_count": 429,
     "metadata": {},
     "output_type": "execute_result"
    }
   ],
   "source": [
    "results"
   ]
  }
 ],
 "metadata": {
  "hide_input": false,
  "kernelspec": {
   "display_name": "Python 3",
   "language": "python",
   "name": "python3"
  },
  "language_info": {
   "codemirror_mode": {
    "name": "ipython",
    "version": 3
   },
   "file_extension": ".py",
   "mimetype": "text/x-python",
   "name": "python",
   "nbconvert_exporter": "python",
   "pygments_lexer": "ipython3",
   "version": "3.7.6"
  },
  "varInspector": {
   "cols": {
    "lenName": 16,
    "lenType": 16,
    "lenVar": 40
   },
   "kernels_config": {
    "python": {
     "delete_cmd_postfix": "",
     "delete_cmd_prefix": "del ",
     "library": "var_list.py",
     "varRefreshCmd": "print(var_dic_list())"
    },
    "r": {
     "delete_cmd_postfix": ") ",
     "delete_cmd_prefix": "rm(",
     "library": "var_list.r",
     "varRefreshCmd": "cat(var_dic_list()) "
    }
   },
   "types_to_exclude": [
    "module",
    "function",
    "builtin_function_or_method",
    "instance",
    "_Feature"
   ],
   "window_display": false
  }
 },
 "nbformat": 4,
 "nbformat_minor": 4
}
